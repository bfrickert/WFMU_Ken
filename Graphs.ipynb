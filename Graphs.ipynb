{
 "cells": [
  {
   "cell_type": "code",
   "execution_count": 1,
   "metadata": {
    "collapsed": false
   },
   "outputs": [
    {
     "data": {
      "text/plain": [
       "'\\tartist\\tsong\\tdate\\n'"
      ]
     },
     "execution_count": 1,
     "metadata": {},
     "output_type": "execute_result"
    }
   ],
   "source": [
    "path = 'data/ken_songs.tsv'\n",
    "open(path).readline()"
   ]
  },
  {
   "cell_type": "code",
   "execution_count": 10,
   "metadata": {
    "collapsed": true
   },
   "outputs": [],
   "source": [
    "%matplotlib inline\n",
    "\n",
    "import matplotlib\n",
    "import numpy as np\n",
    "import matplotlib.pyplot as plt"
   ]
  },
  {
   "cell_type": "code",
   "execution_count": 11,
   "metadata": {
    "collapsed": false,
    "scrolled": true
   },
   "outputs": [],
   "source": [
    "import json\n",
    "records = [[item for item in line.split('\\t')] for line in open(path)]\n",
    "import pandas as pd\n",
    "df = pd.DataFrame()\n",
    "df = df.append(records[1:])\n",
    "df.columns = ['index','artist', 'song', 'date']"
   ]
  },
  {
   "cell_type": "code",
   "execution_count": 3,
   "metadata": {
    "collapsed": false
   },
   "outputs": [
    {
     "data": {
      "text/plain": [
       "FAIL                    223\n",
       "Unknown                 159\n",
       "Wire                    153\n",
       "Neu                     138\n",
       "Jonathan Kane           117\n",
       "Matmos                  101\n",
       "Curd Duca               100\n",
       "Elakelaiset              85\n",
       "Satanicpornocultshop     80\n",
       "Go Home Productions      77\n",
       "dtype: int64"
      ]
     },
     "execution_count": 3,
     "metadata": {},
     "output_type": "execute_result"
    }
   ],
   "source": [
    "df['artist'][:10]\n",
    "artist_counts = df['artist'].value_counts()\n",
    "artist_counts[:10]"
   ]
  },
  {
   "cell_type": "code",
   "execution_count": 4,
   "metadata": {
    "collapsed": false
   },
   "outputs": [
    {
     "data": {
      "text/plain": [
       "FAIL                    223\n",
       "Unknown                 159\n",
       "Wire                    153\n",
       "Neu                     138\n",
       "Jonathan Kane           117\n",
       "Matmos                  101\n",
       "Curd Duca               100\n",
       "Elakelaiset              85\n",
       "Satanicpornocultshop     80\n",
       "Go Home Productions      77\n",
       "dtype: int64"
      ]
     },
     "execution_count": 4,
     "metadata": {},
     "output_type": "execute_result"
    }
   ],
   "source": [
    "results = pd.Series([artist for artist in df.artist])\n",
    "results[:5]\n",
    "results.value_counts()[:10]"
   ]
  },
  {
   "cell_type": "code",
   "execution_count": 5,
   "metadata": {
    "collapsed": false
   },
   "outputs": [
    {
     "data": {
      "text/plain": [
       "date\n",
       "1/1/2003\\n     501\n",
       "1/1/2014\\n     283\n",
       "1/10/2007\\n    144\n",
       "1/11/2006\\n    110\n",
       "1/11/2012\\n    280\n",
       "1/12/2005\\n    329\n",
       "1/12/2011\\n    174\n",
       "1/13/2010\\n    325\n",
       "1/14/2004\\n    152\n",
       "1/14/2009\\n    456\n",
       "dtype: int64"
      ]
     },
     "execution_count": 5,
     "metadata": {},
     "output_type": "execute_result"
    }
   ],
   "source": [
    "import numpy as np\n",
    "elakelaiset = np.where(df['artist'].str.contains('r'), 'r\\'ed', 'Not r\\'ed')\n",
    "by_elakelaiset = df.groupby(['date', elakelaiset])\n",
    "agg_counts = by_elakelaiset.size().unstack().fillna(0)\n",
    "indexer = agg_counts.sum(1).argsort()\n",
    "indexer[:10]"
   ]
  },
  {
   "cell_type": "code",
   "execution_count": 6,
   "metadata": {
    "collapsed": false
   },
   "outputs": [
    {
     "data": {
      "text/html": [
       "<div style=\"max-height:1000px;max-width:1500px;overflow:auto;\">\n",
       "<table border=\"1\" class=\"dataframe\">\n",
       "  <thead>\n",
       "    <tr style=\"text-align: right;\">\n",
       "      <th></th>\n",
       "      <th>Not r'ed</th>\n",
       "      <th>r'ed</th>\n",
       "    </tr>\n",
       "    <tr>\n",
       "      <th>date</th>\n",
       "      <th></th>\n",
       "      <th></th>\n",
       "    </tr>\n",
       "  </thead>\n",
       "  <tbody>\n",
       "    <tr>\n",
       "      <th>4/25/2001\\n</th>\n",
       "      <td>  7</td>\n",
       "      <td> 16</td>\n",
       "    </tr>\n",
       "    <tr>\n",
       "      <th>1/23/2002\\n</th>\n",
       "      <td>  6</td>\n",
       "      <td> 18</td>\n",
       "    </tr>\n",
       "    <tr>\n",
       "      <th>3/3/2010\\n</th>\n",
       "      <td> 11</td>\n",
       "      <td> 13</td>\n",
       "    </tr>\n",
       "    <tr>\n",
       "      <th>2/22/2012\\n</th>\n",
       "      <td> 15</td>\n",
       "      <td>  9</td>\n",
       "    </tr>\n",
       "    <tr>\n",
       "      <th>7/28/2010\\n</th>\n",
       "      <td> 16</td>\n",
       "      <td>  8</td>\n",
       "    </tr>\n",
       "    <tr>\n",
       "      <th>3/28/2001\\n</th>\n",
       "      <td> 13</td>\n",
       "      <td> 11</td>\n",
       "    </tr>\n",
       "    <tr>\n",
       "      <th>2/5/2005\\n</th>\n",
       "      <td> 14</td>\n",
       "      <td> 10</td>\n",
       "    </tr>\n",
       "    <tr>\n",
       "      <th>3/9/2011\\n</th>\n",
       "      <td> 14</td>\n",
       "      <td> 10</td>\n",
       "    </tr>\n",
       "    <tr>\n",
       "      <th>3/7/2007\\n</th>\n",
       "      <td> 14</td>\n",
       "      <td> 11</td>\n",
       "    </tr>\n",
       "    <tr>\n",
       "      <th>2/27/2008\\n</th>\n",
       "      <td> 12</td>\n",
       "      <td> 13</td>\n",
       "    </tr>\n",
       "  </tbody>\n",
       "</table>\n",
       "<p>10 rows × 2 columns</p>\n",
       "</div>"
      ],
      "text/plain": [
       "             Not r'ed  r'ed\n",
       "date                       \n",
       "4/25/2001\\n         7    16\n",
       "1/23/2002\\n         6    18\n",
       "3/3/2010\\n         11    13\n",
       "2/22/2012\\n        15     9\n",
       "7/28/2010\\n        16     8\n",
       "3/28/2001\\n        13    11\n",
       "2/5/2005\\n         14    10\n",
       "3/9/2011\\n         14    10\n",
       "3/7/2007\\n         14    11\n",
       "2/27/2008\\n        12    13\n",
       "\n",
       "[10 rows x 2 columns]"
      ]
     },
     "execution_count": 6,
     "metadata": {},
     "output_type": "execute_result"
    }
   ],
   "source": [
    "count_subset = agg_counts.take(indexer)[20:30]\n",
    "count_subset"
   ]
  },
  {
   "cell_type": "code",
   "execution_count": 12,
   "metadata": {
    "collapsed": false
   },
   "outputs": [
    {
     "data": {
      "text/plain": [
       "<matplotlib.axes.AxesSubplot at 0x7f7b4c0b7290>"
      ]
     },
     "execution_count": 12,
     "metadata": {},
     "output_type": "execute_result"
    },
    {
     "data": {
      "image/png": "[encoded data removed]",
      "text/plain": [
       "<matplotlib.figure.Figure at 0x7f7b4bd8ea10>"
      ]
     },
     "metadata": {},
     "output_type": "display_data"
    }
   ],
   "source": [
    "count_subset.plot(kind='barh', stacked=True)"
   ]
  },
  {
   "cell_type": "code",
   "execution_count": 13,
   "metadata": {
    "collapsed": false
   },
   "outputs": [
    {
     "data": {
      "text/plain": [
       "<matplotlib.axes.AxesSubplot at 0x7f7b4bab1b90>"
      ]
     },
     "execution_count": 13,
     "metadata": {},
     "output_type": "execute_result"
    },
    {
     "data": {
      "image/png": "[encoded data removed]",
      "text/plain": [
       "<matplotlib.figure.Figure at 0x7f7b4bb21650>"
      ]
     },
     "metadata": {},
     "output_type": "display_data"
    }
   ],
   "source": [
    "normed_subset = count_subset.div(count_subset.sum(1), axis=(0))\n",
    "normed_subset.plot(kind='barh',stacked=True)"
   ]
  },
  {
   "cell_type": "code",
   "execution_count": 15,
   "metadata": {
    "collapsed": false
   },
   "outputs": [
    {
     "data": {
      "text/html": [
       "<div style=\"max-height:1000px;max-width:1500px;overflow:auto;\">\n",
       "<table border=\"1\" class=\"dataframe\">\n",
       "  <thead>\n",
       "    <tr style=\"text-align: right;\">\n",
       "      <th></th>\n",
       "      <th>index</th>\n",
       "      <th>artist</th>\n",
       "      <th>song</th>\n",
       "      <th>date</th>\n",
       "    </tr>\n",
       "  </thead>\n",
       "  <tbody>\n",
       "    <tr>\n",
       "      <th>8212 </th>\n",
       "      <td> 13</td>\n",
       "      <td>                           Moritz</td>\n",
       "      <td>                  Bohemian Rhapsody</td>\n",
       "      <td>  6/22/2005\\n</td>\n",
       "    </tr>\n",
       "    <tr>\n",
       "      <th>11733</th>\n",
       "      <td> 20</td>\n",
       "      <td>                      Kim Doo Soo</td>\n",
       "      <td>                           Bohemian</td>\n",
       "      <td>   5/9/2007\\n</td>\n",
       "    </tr>\n",
       "    <tr>\n",
       "      <th>14509</th>\n",
       "      <td> 21</td>\n",
       "      <td>                            Queen</td>\n",
       "      <td>       Bohemian Multitrack Rhapsody</td>\n",
       "      <td>  10/7/2009\\n</td>\n",
       "    </tr>\n",
       "    <tr>\n",
       "      <th>16527</th>\n",
       "      <td>  8</td>\n",
       "      <td>                           Moritz</td>\n",
       "      <td>                  Bohemian Rhapsody</td>\n",
       "      <td>  6/16/2010\\n</td>\n",
       "    </tr>\n",
       "    <tr>\n",
       "      <th>17090</th>\n",
       "      <td> 14</td>\n",
       "      <td>                           Moritz</td>\n",
       "      <td>                  Bohemian Rhapsody</td>\n",
       "      <td>  1/13/2010\\n</td>\n",
       "    </tr>\n",
       "    <tr>\n",
       "      <th>17091</th>\n",
       "      <td> 15</td>\n",
       "      <td>                            Queen</td>\n",
       "      <td>       Bohemian Multitrack Rhapsody</td>\n",
       "      <td>  1/13/2010\\n</td>\n",
       "    </tr>\n",
       "    <tr>\n",
       "      <th>17333</th>\n",
       "      <td> 14</td>\n",
       "      <td>                            bd594</td>\n",
       "      <td>                  Bohemian Rhapsody</td>\n",
       "      <td>  11/9/2011\\n</td>\n",
       "    </tr>\n",
       "    <tr>\n",
       "      <th>17459</th>\n",
       "      <td>  9</td>\n",
       "      <td>                            bd594</td>\n",
       "      <td>                  Bohemian Rhapsody</td>\n",
       "      <td> 10/12/2011\\n</td>\n",
       "    </tr>\n",
       "    <tr>\n",
       "      <th>17492</th>\n",
       "      <td>  6</td>\n",
       "      <td>                            BD594</td>\n",
       "      <td>                  Bohemian Rhapsody</td>\n",
       "      <td>  10/5/2011\\n</td>\n",
       "    </tr>\n",
       "    <tr>\n",
       "      <th>18356</th>\n",
       "      <td> 32</td>\n",
       "      <td>                           Moritz</td>\n",
       "      <td>                  Bohemian Rhapsody</td>\n",
       "      <td>  3/30/2011\\n</td>\n",
       "    </tr>\n",
       "    <tr>\n",
       "      <th>18860</th>\n",
       "      <td>  3</td>\n",
       "      <td>                  William Shatner</td>\n",
       "      <td>                  Bohemian Rhapsody</td>\n",
       "      <td> 11/14/2012\\n</td>\n",
       "    </tr>\n",
       "    <tr>\n",
       "      <th>19943</th>\n",
       "      <td> 35</td>\n",
       "      <td>                           Moritz</td>\n",
       "      <td>                  Bohemian Rhapsody</td>\n",
       "      <td>   4/4/2012\\n</td>\n",
       "    </tr>\n",
       "    <tr>\n",
       "      <th>20415</th>\n",
       "      <td> 25</td>\n",
       "      <td>                      The Jethros</td>\n",
       "      <td>                  Bohemian Rhapsody</td>\n",
       "      <td> 12/11/2013\\n</td>\n",
       "    </tr>\n",
       "    <tr>\n",
       "      <th>20794</th>\n",
       "      <td>  0</td>\n",
       "      <td>                            Queen</td>\n",
       "      <td> Bohemian Rhapsody (multitrack mix)</td>\n",
       "      <td>  9/25/2013\\n</td>\n",
       "    </tr>\n",
       "    <tr>\n",
       "      <th>20795</th>\n",
       "      <td>  1</td>\n",
       "      <td>                A Capella Science</td>\n",
       "      <td>                  Bohemian Rhapsody</td>\n",
       "      <td>  9/25/2013\\n</td>\n",
       "    </tr>\n",
       "    <tr>\n",
       "      <th>20796</th>\n",
       "      <td>  2</td>\n",
       "      <td>                           Moritz</td>\n",
       "      <td>                  Bohemian Rhapsody</td>\n",
       "      <td>  9/25/2013\\n</td>\n",
       "    </tr>\n",
       "    <tr>\n",
       "      <th>20797</th>\n",
       "      <td>  3</td>\n",
       "      <td>                  Porkka Playboys</td>\n",
       "      <td>                  Bohemian Rhapsody</td>\n",
       "      <td>  9/25/2013\\n</td>\n",
       "    </tr>\n",
       "    <tr>\n",
       "      <th>20798</th>\n",
       "      <td>  4</td>\n",
       "      <td>               Arrested Drunk Guy</td>\n",
       "      <td>                  Bohemian Rhapsody</td>\n",
       "      <td>  9/25/2013\\n</td>\n",
       "    </tr>\n",
       "    <tr>\n",
       "      <th>20799</th>\n",
       "      <td>  5</td>\n",
       "      <td>                            BD594</td>\n",
       "      <td>                  Bohemian Rhapsody</td>\n",
       "      <td>  9/25/2013\\n</td>\n",
       "    </tr>\n",
       "    <tr>\n",
       "      <th>20800</th>\n",
       "      <td>  6</td>\n",
       "      <td> Twinkle Twinkle Little Rock Star</td>\n",
       "      <td>                  Bohemian Rhapsody</td>\n",
       "      <td>  9/25/2013\\n</td>\n",
       "    </tr>\n",
       "    <tr>\n",
       "      <th>20801</th>\n",
       "      <td>  7</td>\n",
       "      <td>                         Bad News</td>\n",
       "      <td>                  Bohemian Rhapsody</td>\n",
       "      <td>  9/25/2013\\n</td>\n",
       "    </tr>\n",
       "    <tr>\n",
       "      <th>20802</th>\n",
       "      <td>  8</td>\n",
       "      <td>      ASU Sun Devil Marching Band</td>\n",
       "      <td>                  Bohemian Rhapsody</td>\n",
       "      <td>  9/25/2013\\n</td>\n",
       "    </tr>\n",
       "    <tr>\n",
       "      <th>20803</th>\n",
       "      <td>  9</td>\n",
       "      <td>                    Weasel Walter</td>\n",
       "      <td>                  Bohemian Rhapsody</td>\n",
       "      <td>  9/25/2013\\n</td>\n",
       "    </tr>\n",
       "    <tr>\n",
       "      <th>20804</th>\n",
       "      <td> 10</td>\n",
       "      <td>                      The Jethros</td>\n",
       "      <td>                  Bohemian Rhapsody</td>\n",
       "      <td>  9/25/2013\\n</td>\n",
       "    </tr>\n",
       "    <tr>\n",
       "      <th>20805</th>\n",
       "      <td> 11</td>\n",
       "      <td>                  William Shatner</td>\n",
       "      <td>                  Bohemian Rhapsody</td>\n",
       "      <td>  9/25/2013\\n</td>\n",
       "    </tr>\n",
       "    <tr>\n",
       "      <th>20807</th>\n",
       "      <td> 13</td>\n",
       "      <td>                       The Braids</td>\n",
       "      <td>                  Bohemian Rhapsody</td>\n",
       "      <td>  9/25/2013\\n</td>\n",
       "    </tr>\n",
       "    <tr>\n",
       "      <th>20809</th>\n",
       "      <td> 15</td>\n",
       "      <td>                 Jake Shimabukuro</td>\n",
       "      <td>                  Bohemian Rhapsody</td>\n",
       "      <td>  9/25/2013\\n</td>\n",
       "    </tr>\n",
       "    <tr>\n",
       "      <th>20811</th>\n",
       "      <td> 17</td>\n",
       "      <td>                      Rolf Harris</td>\n",
       "      <td>                  Bohemian Rhapsody</td>\n",
       "      <td>  9/25/2013\\n</td>\n",
       "    </tr>\n",
       "    <tr>\n",
       "      <th>20818</th>\n",
       "      <td> 24</td>\n",
       "      <td>               Bert van den Brink</td>\n",
       "      <td>                  Bohemian Rhapsody</td>\n",
       "      <td>  9/25/2013\\n</td>\n",
       "    </tr>\n",
       "    <tr>\n",
       "      <th>22538</th>\n",
       "      <td> 16</td>\n",
       "      <td>                 Robert Wilkinson</td>\n",
       "      <td>                  Bohemian Rhapsody</td>\n",
       "      <td>  8/27/2014\\n</td>\n",
       "    </tr>\n",
       "    <tr>\n",
       "      <th>22811</th>\n",
       "      <td> 34</td>\n",
       "      <td>                      The Jethros</td>\n",
       "      <td>                  Bohemian Rhapsody</td>\n",
       "      <td>   7/9/2014\\n</td>\n",
       "    </tr>\n",
       "    <tr>\n",
       "      <th>22923</th>\n",
       "      <td>  6</td>\n",
       "      <td>                      The Jethros</td>\n",
       "      <td>                  Bohemian Rhapsody</td>\n",
       "      <td>   6/4/2014\\n</td>\n",
       "    </tr>\n",
       "    <tr>\n",
       "      <th>25138</th>\n",
       "      <td> 28</td>\n",
       "      <td>                      The Jethros</td>\n",
       "      <td>                  Bohemian Rhapsody</td>\n",
       "      <td>  1/14/2015\\n</td>\n",
       "    </tr>\n",
       "  </tbody>\n",
       "</table>\n",
       "<p>33 rows × 4 columns</p>\n",
       "</div>"
      ],
      "text/plain": [
       "      index                            artist  \\\n",
       "8212     13                            Moritz   \n",
       "11733    20                       Kim Doo Soo   \n",
       "14509    21                             Queen   \n",
       "16527     8                            Moritz   \n",
       "17090    14                            Moritz   \n",
       "17091    15                             Queen   \n",
       "17333    14                             bd594   \n",
       "17459     9                             bd594   \n",
       "17492     6                             BD594   \n",
       "18356    32                            Moritz   \n",
       "18860     3                   William Shatner   \n",
       "19943    35                            Moritz   \n",
       "20415    25                       The Jethros   \n",
       "20794     0                             Queen   \n",
       "20795     1                 A Capella Science   \n",
       "20796     2                            Moritz   \n",
       "20797     3                   Porkka Playboys   \n",
       "20798     4                Arrested Drunk Guy   \n",
       "20799     5                             BD594   \n",
       "20800     6  Twinkle Twinkle Little Rock Star   \n",
       "20801     7                          Bad News   \n",
       "20802     8       ASU Sun Devil Marching Band   \n",
       "20803     9                     Weasel Walter   \n",
       "20804    10                       The Jethros   \n",
       "20805    11                   William Shatner   \n",
       "20807    13                        The Braids   \n",
       "20809    15                  Jake Shimabukuro   \n",
       "20811    17                       Rolf Harris   \n",
       "20818    24                Bert van den Brink   \n",
       "22538    16                  Robert Wilkinson   \n",
       "22811    34                       The Jethros   \n",
       "22923     6                       The Jethros   \n",
       "25138    28                       The Jethros   \n",
       "\n",
       "                                     song          date  \n",
       "8212                    Bohemian Rhapsody   6/22/2005\\n  \n",
       "11733                            Bohemian    5/9/2007\\n  \n",
       "14509        Bohemian Multitrack Rhapsody   10/7/2009\\n  \n",
       "16527                   Bohemian Rhapsody   6/16/2010\\n  \n",
       "17090                   Bohemian Rhapsody   1/13/2010\\n  \n",
       "17091        Bohemian Multitrack Rhapsody   1/13/2010\\n  \n",
       "17333                   Bohemian Rhapsody   11/9/2011\\n  \n",
       "17459                   Bohemian Rhapsody  10/12/2011\\n  \n",
       "17492                   Bohemian Rhapsody   10/5/2011\\n  \n",
       "18356                   Bohemian Rhapsody   3/30/2011\\n  \n",
       "18860                   Bohemian Rhapsody  11/14/2012\\n  \n",
       "19943                   Bohemian Rhapsody    4/4/2012\\n  \n",
       "20415                   Bohemian Rhapsody  12/11/2013\\n  \n",
       "20794  Bohemian Rhapsody (multitrack mix)   9/25/2013\\n  \n",
       "20795                   Bohemian Rhapsody   9/25/2013\\n  \n",
       "20796                   Bohemian Rhapsody   9/25/2013\\n  \n",
       "20797                   Bohemian Rhapsody   9/25/2013\\n  \n",
       "20798                   Bohemian Rhapsody   9/25/2013\\n  \n",
       "20799                   Bohemian Rhapsody   9/25/2013\\n  \n",
       "20800                   Bohemian Rhapsody   9/25/2013\\n  \n",
       "20801                   Bohemian Rhapsody   9/25/2013\\n  \n",
       "20802                   Bohemian Rhapsody   9/25/2013\\n  \n",
       "20803                   Bohemian Rhapsody   9/25/2013\\n  \n",
       "20804                   Bohemian Rhapsody   9/25/2013\\n  \n",
       "20805                   Bohemian Rhapsody   9/25/2013\\n  \n",
       "20807                   Bohemian Rhapsody   9/25/2013\\n  \n",
       "20809                   Bohemian Rhapsody   9/25/2013\\n  \n",
       "20811                   Bohemian Rhapsody   9/25/2013\\n  \n",
       "20818                   Bohemian Rhapsody   9/25/2013\\n  \n",
       "22538                   Bohemian Rhapsody   8/27/2014\\n  \n",
       "22811                   Bohemian Rhapsody    7/9/2014\\n  \n",
       "22923                   Bohemian Rhapsody    6/4/2014\\n  \n",
       "25138                   Bohemian Rhapsody   1/14/2015\\n  \n",
       "\n",
       "[33 rows x 4 columns]"
      ]
     },
     "execution_count": 15,
     "metadata": {},
     "output_type": "execute_result"
    }
   ],
   "source": [
    "bohemian = df[df['song'].str.contains('Bohemian')==True]\n",
    "bohemian"
   ]
  },
  {
   "cell_type": "code",
   "execution_count": 16,
   "metadata": {
    "collapsed": false
   },
   "outputs": [
    {
     "data": {
      "text/html": [
       "<div style=\"max-height:1000px;max-width:1500px;overflow:auto;\">\n",
       "<table border=\"1\" class=\"dataframe\">\n",
       "  <thead>\n",
       "    <tr style=\"text-align: right;\">\n",
       "      <th></th>\n",
       "      <th>index</th>\n",
       "      <th>artist</th>\n",
       "      <th>song</th>\n",
       "      <th>date</th>\n",
       "      <th>hasBohemian</th>\n",
       "    </tr>\n",
       "  </thead>\n",
       "  <tbody>\n",
       "    <tr>\n",
       "      <th>0</th>\n",
       "      <td> 0</td>\n",
       "      <td>           Marlene Dietrich</td>\n",
       "      <td> Puff der Zauberdrachen</td>\n",
       "      <td> 12/12/2001\\n</td>\n",
       "      <td> False</td>\n",
       "    </tr>\n",
       "    <tr>\n",
       "      <th>1</th>\n",
       "      <td> 1</td>\n",
       "      <td>                      Ruach</td>\n",
       "      <td> Puff The Kosher Dragon</td>\n",
       "      <td> 12/12/2001\\n</td>\n",
       "      <td> False</td>\n",
       "    </tr>\n",
       "    <tr>\n",
       "      <th>2</th>\n",
       "      <td> 2</td>\n",
       "      <td> Gefilte Joe &amp;amp; The Fish</td>\n",
       "      <td>          Hanukah Rocks</td>\n",
       "      <td> 12/12/2001\\n</td>\n",
       "      <td> False</td>\n",
       "    </tr>\n",
       "    <tr>\n",
       "      <th>3</th>\n",
       "      <td> 3</td>\n",
       "      <td>           Kalesijski Svuci</td>\n",
       "      <td>    Komsinice Mila Moja</td>\n",
       "      <td> 12/12/2001\\n</td>\n",
       "      <td> False</td>\n",
       "    </tr>\n",
       "    <tr>\n",
       "      <th>4</th>\n",
       "      <td> 4</td>\n",
       "      <td>                Tornado Lue</td>\n",
       "      <td>                  Marie</td>\n",
       "      <td> 12/12/2001\\n</td>\n",
       "      <td> False</td>\n",
       "    </tr>\n",
       "  </tbody>\n",
       "</table>\n",
       "<p>5 rows × 5 columns</p>\n",
       "</div>"
      ],
      "text/plain": [
       "  index                      artist                    song          date  \\\n",
       "0     0            Marlene Dietrich  Puff der Zauberdrachen  12/12/2001\\n   \n",
       "1     1                       Ruach  Puff The Kosher Dragon  12/12/2001\\n   \n",
       "2     2  Gefilte Joe &amp; The Fish           Hanukah Rocks  12/12/2001\\n   \n",
       "3     3            Kalesijski Svuci     Komsinice Mila Moja  12/12/2001\\n   \n",
       "4     4                 Tornado Lue                   Marie  12/12/2001\\n   \n",
       "\n",
       "  hasBohemian  \n",
       "0       False  \n",
       "1       False  \n",
       "2       False  \n",
       "3       False  \n",
       "4       False  \n",
       "\n",
       "[5 rows x 5 columns]"
      ]
     },
     "execution_count": 16,
     "metadata": {},
     "output_type": "execute_result"
    }
   ],
   "source": [
    "df['hasBohemian'] = df.song.str.contains('Bohemian')\n",
    "df.head()"
   ]
  }
 ],
 "metadata": {
  "kernelspec": {
   "display_name": "Python 2",
   "language": "python",
   "name": "python2"
  },
  "language_info": {
   "codemirror_mode": {
    "name": "ipython",
    "version": 2
   },
   "file_extension": ".py",
   "mimetype": "text/x-python",
   "name": "python",
   "nbconvert_exporter": "python",
   "pygments_lexer": "ipython2",
   "version": "2.7.6"
  }
 },
 "nbformat": 4,
 "nbformat_minor": 0
}
