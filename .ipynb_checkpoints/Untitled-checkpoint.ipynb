{
 "cells": [
  {
   "cell_type": "code",
   "execution_count": 43,
   "metadata": {
    "collapsed": false
   },
   "outputs": [
    {
     "ename": "SyntaxError",
     "evalue": "invalid syntax (<ipython-input-43-005bb6e07503>, line 30)",
     "output_type": "error",
     "traceback": [
      "\u001b[1;36m  File \u001b[1;32m\"<ipython-input-43-005bb6e07503>\"\u001b[1;36m, line \u001b[1;32m30\u001b[0m\n\u001b[1;33m    mdt = re.match('(.*)', dt[0].strip(), re.MULTILINE|re.I)\u001b[0m\n\u001b[1;37m      ^\u001b[0m\n\u001b[1;31mSyntaxError\u001b[0m\u001b[1;31m:\u001b[0m invalid syntax\n"
     ]
    }
   ],
   "source": [
    "import requests\n",
    "from bs4 import BeautifulSoup\n",
    "import pandas as pd\n",
    "import re\n",
    "import time\n",
    "import datetime\n",
    "import sys\n",
    "\n",
    "def scrapeWFMUPlaylist(url):\n",
    "    response = requests.get(url)\n",
    "\n",
    "    soup = BeautifulSoup(response.text)\n",
    "    tables = soup.findAll(\"table\", {'border':'0'})\n",
    "    rows = tables[0].findAll('tr')\n",
    "    values = []\n",
    "    try:\n",
    "        dt = soup.findAll(text=re.compile('Playlist for (.*)$'))\n",
    "        mdt = re.match('Playlist for (.*)$', dt[0].strip(), re.M|re.I)\n",
    "        str_dt = '%s %s, %s' % (re.match('([0-3][0-9]) (\\w*) (20[0-1][0-9])',mdt.group(1)).group(2), re.match('([0-3][0-9]) (\\w*) (20[0-1][0-9])',mdt.group(1)).group(1), re.match('([0-3][0-9]) (\\w*) (20[0-1][0-9])',mdt.group(1)).group(3))\n",
    "        fdt = \"%s/%s/%s\" % (time.strptime(str_dt, '%B %d, %Y')[1], time.strptime(str_dt, '%B %d, %Y')[2], time.strptime(str_dt, '%B %d, %Y')[0])\n",
    "    except:\n",
    "        try:\n",
    "            dt = soup.findAll(text=re.compile('([a-zA-Z] [0-9]+, 20[0-1][0-9]):'))\n",
    "            mdt = re.match('(.*):', dt[0].strip(), re.M|re.I)\n",
    "            dt_struct = datetime.datetime.strptime(mdt.group(1), '%B %d, %Y')\n",
    "            fdt = dt_struct.strftime('%m/%d/%Y')\n",
    "        except:\n",
    "            dt = soup.findAll(text=re.compile('([a-zA-Z] [0-9]+, 20[0-1][0-9])'))\n",
    "            print(\"|{0}|\".format(dt[0]))\n",
    "            mdt = re.match('(.*)', dt[0].strip(), re.MULTILINE|re.I)\n",
    "            print(mdt.group(1))\n",
    "            dt_struct = datetime.datetime.strptime(mdt.group(1), '%B %d, %Y')\n",
    "            fdt = dt_struct.strftime('%m/%d/%Y')\n",
    "    for row in rows:\n",
    "        cells = row.findAll('td')\n",
    "\n",
    "        if len(cells) >= 4:\n",
    "            try:\n",
    "                song = cells[1].find(\"font\").find(text=True).strip().encode('ascii', 'ignore')\n",
    "                artist = cells[0].find(\"font\").find(text=True).strip().encode('ascii', 'ignore')\n",
    "            except:\n",
    "                song = 'FAIL'\n",
    "                artist = 'FAIL'\n",
    "            values.append([artist, song, fdt])\n",
    "\n",
    "    df = pd.DataFrame(values)\n",
    "    return df\n",
    "\n",
    "df = pd.DataFrame()\n",
    "url_df = pd.read_csv('data/FR/playlists.tsv', sep='\\t')"
   ]
  },
  {
   "cell_type": "code",
   "execution_count": 42,
   "metadata": {
    "collapsed": false
   },
   "outputs": [
    {
     "name": "stdout",
     "output_type": "stream",
     "text": [
      "http://www.wfmu.org/playlists/shows/1844\n",
      "|\n",
      "WFMU:\n",
      "Strength Through Failure with Fabio:\n",
      "Playlist\n",
      "from December 26, 2001\n",
      "|\n",
      "WFMU:\n"
     ]
    },
    {
     "ename": "ValueError",
     "evalue": "time data 'WFMU:' does not match format '%B %d, %Y'",
     "output_type": "error",
     "traceback": [
      "\u001b[1;31m---------------------------------------------------------------------------\u001b[0m",
      "\u001b[1;31mValueError\u001b[0m                                Traceback (most recent call last)",
      "\u001b[1;32m<ipython-input-42-19413ab4386d>\u001b[0m in \u001b[0;36m<module>\u001b[1;34m()\u001b[0m\n\u001b[0;32m      1\u001b[0m \u001b[0murls\u001b[0m \u001b[1;33m=\u001b[0m \u001b[1;33m[\u001b[0m\u001b[0mrow\u001b[0m\u001b[1;33m[\u001b[0m\u001b[1;36m1\u001b[0m\u001b[1;33m]\u001b[0m \u001b[1;32mfor\u001b[0m \u001b[0mindex\u001b[0m\u001b[1;33m,\u001b[0m \u001b[0mrow\u001b[0m \u001b[1;32min\u001b[0m \u001b[0murl_df\u001b[0m\u001b[1;33m.\u001b[0m\u001b[0miterrows\u001b[0m\u001b[1;33m(\u001b[0m\u001b[1;33m)\u001b[0m\u001b[1;33m]\u001b[0m\u001b[1;33m\u001b[0m\u001b[0m\n\u001b[0;32m      2\u001b[0m \u001b[1;32mprint\u001b[0m\u001b[1;33m(\u001b[0m\u001b[0murls\u001b[0m\u001b[1;33m[\u001b[0m\u001b[1;36m0\u001b[0m\u001b[1;33m]\u001b[0m\u001b[1;33m)\u001b[0m\u001b[1;33m\u001b[0m\u001b[0m\n\u001b[1;32m----> 3\u001b[1;33m \u001b[0mdf\u001b[0m \u001b[1;33m=\u001b[0m \u001b[0mdf\u001b[0m\u001b[1;33m.\u001b[0m\u001b[0mappend\u001b[0m\u001b[1;33m(\u001b[0m\u001b[0mscrapeWFMUPlaylist\u001b[0m\u001b[1;33m(\u001b[0m\u001b[0murls\u001b[0m\u001b[1;33m[\u001b[0m\u001b[1;36m0\u001b[0m\u001b[1;33m]\u001b[0m\u001b[1;33m)\u001b[0m\u001b[1;33m)\u001b[0m\u001b[1;33m\u001b[0m\u001b[0m\n\u001b[0m",
      "\u001b[1;32m<ipython-input-41-b9bac33a1dc6>\u001b[0m in \u001b[0;36mscrapeWFMUPlaylist\u001b[1;34m(url)\u001b[0m\n\u001b[0;32m     30\u001b[0m             \u001b[0mmdt\u001b[0m \u001b[1;33m=\u001b[0m \u001b[0mre\u001b[0m\u001b[1;33m.\u001b[0m\u001b[0mmatch\u001b[0m\u001b[1;33m(\u001b[0m\u001b[1;34m'(.*)'\u001b[0m\u001b[1;33m,\u001b[0m \u001b[0mdt\u001b[0m\u001b[1;33m[\u001b[0m\u001b[1;36m0\u001b[0m\u001b[1;33m]\u001b[0m\u001b[1;33m.\u001b[0m\u001b[0mstrip\u001b[0m\u001b[1;33m(\u001b[0m\u001b[1;33m)\u001b[0m\u001b[1;33m,\u001b[0m \u001b[0mre\u001b[0m\u001b[1;33m.\u001b[0m\u001b[0mMULTILINE\u001b[0m\u001b[1;33m|\u001b[0m\u001b[0mre\u001b[0m\u001b[1;33m.\u001b[0m\u001b[0mI\u001b[0m\u001b[1;33m)\u001b[0m\u001b[1;33m\u001b[0m\u001b[0m\n\u001b[0;32m     31\u001b[0m             \u001b[1;32mprint\u001b[0m\u001b[1;33m(\u001b[0m\u001b[0mmdt\u001b[0m\u001b[1;33m.\u001b[0m\u001b[0mgroup\u001b[0m\u001b[1;33m(\u001b[0m\u001b[1;36m1\u001b[0m\u001b[1;33m)\u001b[0m\u001b[1;33m)\u001b[0m\u001b[1;33m\u001b[0m\u001b[0m\n\u001b[1;32m---> 32\u001b[1;33m             \u001b[0mdt_struct\u001b[0m \u001b[1;33m=\u001b[0m \u001b[0mdatetime\u001b[0m\u001b[1;33m.\u001b[0m\u001b[0mdatetime\u001b[0m\u001b[1;33m.\u001b[0m\u001b[0mstrptime\u001b[0m\u001b[1;33m(\u001b[0m\u001b[0mmdt\u001b[0m\u001b[1;33m.\u001b[0m\u001b[0mgroup\u001b[0m\u001b[1;33m(\u001b[0m\u001b[1;36m1\u001b[0m\u001b[1;33m)\u001b[0m\u001b[1;33m,\u001b[0m \u001b[1;34m'%B %d, %Y'\u001b[0m\u001b[1;33m)\u001b[0m\u001b[1;33m\u001b[0m\u001b[0m\n\u001b[0m\u001b[0;32m     33\u001b[0m             \u001b[0mfdt\u001b[0m \u001b[1;33m=\u001b[0m \u001b[0mdt_struct\u001b[0m\u001b[1;33m.\u001b[0m\u001b[0mstrftime\u001b[0m\u001b[1;33m(\u001b[0m\u001b[1;34m'%m/%d/%Y'\u001b[0m\u001b[1;33m)\u001b[0m\u001b[1;33m\u001b[0m\u001b[0m\n\u001b[0;32m     34\u001b[0m     \u001b[1;32mfor\u001b[0m \u001b[0mrow\u001b[0m \u001b[1;32min\u001b[0m \u001b[0mrows\u001b[0m\u001b[1;33m:\u001b[0m\u001b[1;33m\u001b[0m\u001b[0m\n",
      "\u001b[1;32m/usr/lib/python2.7/_strptime.pyc\u001b[0m in \u001b[0;36m_strptime\u001b[1;34m(data_string, format)\u001b[0m\n\u001b[0;32m    323\u001b[0m     \u001b[1;32mif\u001b[0m \u001b[1;32mnot\u001b[0m \u001b[0mfound\u001b[0m\u001b[1;33m:\u001b[0m\u001b[1;33m\u001b[0m\u001b[0m\n\u001b[0;32m    324\u001b[0m         raise ValueError(\"time data %r does not match format %r\" %\n\u001b[1;32m--> 325\u001b[1;33m                          (data_string, format))\n\u001b[0m\u001b[0;32m    326\u001b[0m     \u001b[1;32mif\u001b[0m \u001b[0mlen\u001b[0m\u001b[1;33m(\u001b[0m\u001b[0mdata_string\u001b[0m\u001b[1;33m)\u001b[0m \u001b[1;33m!=\u001b[0m \u001b[0mfound\u001b[0m\u001b[1;33m.\u001b[0m\u001b[0mend\u001b[0m\u001b[1;33m(\u001b[0m\u001b[1;33m)\u001b[0m\u001b[1;33m:\u001b[0m\u001b[1;33m\u001b[0m\u001b[0m\n\u001b[0;32m    327\u001b[0m         raise ValueError(\"unconverted data remains: %s\" %\n",
      "\u001b[1;31mValueError\u001b[0m: time data 'WFMU:' does not match format '%B %d, %Y'"
     ]
    }
   ],
   "source": [
    "urls = [row[1] for index, row in url_df.iterrows()]\n",
    "print(urls[0])\n",
    "df = df.append(scrapeWFMUPlaylist(urls[0]))"
   ]
  },
  {
   "cell_type": "code",
   "execution_count": null,
   "metadata": {
    "collapsed": true
   },
   "outputs": [],
   "source": [
    "urls = [row[1] for index, row in url_df.iterrows()]\n",
    "i = 0\n",
    "for url in urls:\n",
    "    try:\n",
    "        i += 1\n",
    "        print str(i) + url\n",
    "        df = df.append(scrapeWFMUPlaylist(url))\n",
    "    except:\n",
    "        pass\n",
    "\n",
    "df.columns = ['artist','song','date']\n",
    "df.to_csv('data/FR/songs.tsv', sep='\\t')"
   ]
  }
 ],
 "metadata": {
  "kernelspec": {
   "display_name": "Python 2",
   "language": "python",
   "name": "python2"
  },
  "language_info": {
   "codemirror_mode": {
    "name": "ipython",
    "version": 2
   },
   "file_extension": ".py",
   "mimetype": "text/x-python",
   "name": "python",
   "nbconvert_exporter": "python",
   "pygments_lexer": "ipython2",
   "version": "2.7.6"
  }
 },
 "nbformat": 4,
 "nbformat_minor": 0
}
