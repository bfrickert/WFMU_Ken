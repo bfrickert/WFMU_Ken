{
 "cells": [
  {
   "cell_type": "code",
   "execution_count": 1,
   "metadata": {
    "collapsed": false
   },
   "outputs": [],
   "source": [
    "import pandas as pd\n",
    "import nltk as nltk\n",
    "import warnings\n",
    "warnings.filterwarnings('ignore')\n",
    "import random\n",
    "import numpy as np\n",
    "import markovgen\n",
    "import StringIO\n",
    "import sys"
   ]
  },
  {
   "cell_type": "code",
   "execution_count": 3,
   "metadata": {
    "collapsed": false
   },
   "outputs": [
    {
     "data": {
      "text/html": [
       "<div style=\"max-height:1000px;max-width:1500px;overflow:auto;\">\n",
       "<table border=\"1\" class=\"dataframe\">\n",
       "  <thead>\n",
       "    <tr style=\"text-align: right;\">\n",
       "      <th></th>\n",
       "      <th>X</th>\n",
       "      <th>artist</th>\n",
       "      <th>song</th>\n",
       "      <th>date</th>\n",
       "      <th>num_songs</th>\n",
       "      <th>fraction</th>\n",
       "      <th>hour</th>\n",
       "      <th>song_words_count</th>\n",
       "    </tr>\n",
       "  </thead>\n",
       "  <tbody>\n",
       "    <tr>\n",
       "      <th>1</th>\n",
       "      <td> 0</td>\n",
       "      <td>       Marlene Dietrich</td>\n",
       "      <td> Puff der Zauberdrachen</td>\n",
       "      <td> 12/12/2001</td>\n",
       "      <td> 43</td>\n",
       "      <td> 0.000000</td>\n",
       "      <td> First</td>\n",
       "      <td> 3</td>\n",
       "    </tr>\n",
       "    <tr>\n",
       "      <th>2</th>\n",
       "      <td> 1</td>\n",
       "      <td>                  Ruach</td>\n",
       "      <td> Puff The Kosher Dragon</td>\n",
       "      <td> 12/12/2001</td>\n",
       "      <td> 43</td>\n",
       "      <td> 0.023256</td>\n",
       "      <td> First</td>\n",
       "      <td> 4</td>\n",
       "    </tr>\n",
       "    <tr>\n",
       "      <th>3</th>\n",
       "      <td> 2</td>\n",
       "      <td> Gefilte Joe &amp; The Fish</td>\n",
       "      <td>          Hanukah Rocks</td>\n",
       "      <td> 12/12/2001</td>\n",
       "      <td> 43</td>\n",
       "      <td> 0.046512</td>\n",
       "      <td> First</td>\n",
       "      <td> 2</td>\n",
       "    </tr>\n",
       "    <tr>\n",
       "      <th>4</th>\n",
       "      <td> 3</td>\n",
       "      <td>       Kalesijski Svuci</td>\n",
       "      <td>    Komsinice Mila Moja</td>\n",
       "      <td> 12/12/2001</td>\n",
       "      <td> 43</td>\n",
       "      <td> 0.069767</td>\n",
       "      <td> First</td>\n",
       "      <td> 3</td>\n",
       "    </tr>\n",
       "    <tr>\n",
       "      <th>5</th>\n",
       "      <td> 4</td>\n",
       "      <td>            Tornado Lue</td>\n",
       "      <td>                  Marie</td>\n",
       "      <td> 12/12/2001</td>\n",
       "      <td> 43</td>\n",
       "      <td> 0.093023</td>\n",
       "      <td> First</td>\n",
       "      <td> 1</td>\n",
       "    </tr>\n",
       "  </tbody>\n",
       "</table>\n",
       "<p>5 rows × 8 columns</p>\n",
       "</div>"
      ],
      "text/plain": [
       "   X                  artist                    song        date  num_songs  \\\n",
       "1  0        Marlene Dietrich  Puff der Zauberdrachen  12/12/2001         43   \n",
       "2  1                   Ruach  Puff The Kosher Dragon  12/12/2001         43   \n",
       "3  2  Gefilte Joe & The Fish           Hanukah Rocks  12/12/2001         43   \n",
       "4  3        Kalesijski Svuci     Komsinice Mila Moja  12/12/2001         43   \n",
       "5  4             Tornado Lue                   Marie  12/12/2001         43   \n",
       "\n",
       "   fraction   hour  song_words_count  \n",
       "1  0.000000  First                 3  \n",
       "2  0.023256  First                 4  \n",
       "3  0.046512  First                 2  \n",
       "4  0.069767  First                 3  \n",
       "5  0.093023  First                 1  \n",
       "\n",
       "[5 rows x 8 columns]"
      ]
     },
     "execution_count": 3,
     "metadata": {},
     "output_type": "execute_result"
    }
   ],
   "source": [
    "df = pd.read_table(\"../data/songs_hour.tsv\", sep='\\t')\n",
    "m = np.mean(df['num_songs'])\n",
    "df['song_words_count'] = df['song'].str.count(' ') + 1\n",
    "df.head()"
   ]
  },
  {
   "cell_type": "code",
   "execution_count": 4,
   "metadata": {
    "collapsed": false
   },
   "outputs": [
    {
     "data": {
      "text/plain": [
       "['Puff der Zauberdrachen',\n",
       " 'Puff The Kosher Dragon',\n",
       " 'Hanukah Rocks',\n",
       " 'Komsinice Mila Moja',\n",
       " 'Marie',\n",
       " 'Ich Weiss Nicht Mehr Genou',\n",
       " 'Happy Meeting',\n",
       " 'Die Hexer',\n",
       " 'Roger Rhythm #1',\n",
       " 'Rubber Band Players',\n",
       " 'The Lepers',\n",
       " '10:10',\n",
       " 'Dachziegelkauer',\n",
       " 'Whispering',\n",
       " 'Charlie & His Orchestra',\n",
       " 'Speaks to American GIs',\n",
       " nan,\n",
       " 'Travelite',\n",
       " 'Bei Manni Und Bine',\n",
       " 'Lyon Fritters',\n",
       " 'Skeleton Fred',\n",
       " 'Osusowake',\n",
       " 'Jonah',\n",
       " 'Three Dances from Nutcracker Suite',\n",
       " \"headin' For The Big City Lights\",\n",
       " 'The Vienna Waltz',\n",
       " 'Leopardi',\n",
       " \"If Drinkin' Don't Kill Me\",\n",
       " 'Lazarus',\n",
       " 'Furniture',\n",
       " 'Narcoleptic Feedback',\n",
       " 'Firecracker Firecracker',\n",
       " 'World War None',\n",
       " 'Saga of Johnny']"
      ]
     },
     "execution_count": 4,
     "metadata": {},
     "output_type": "execute_result"
    }
   ],
   "source": [
    " df['song'].tolist()[0:34]"
   ]
  },
  {
   "cell_type": "code",
   "execution_count": 5,
   "metadata": {
    "collapsed": false
   },
   "outputs": [],
   "source": [
    "songs = df['song'].dropna().values\n",
    "txt = ' '.join(songs.tolist())"
   ]
  },
  {
   "cell_type": "code",
   "execution_count": 6,
   "metadata": {
    "collapsed": false
   },
   "outputs": [],
   "source": [
    "artists = df['artist'].dropna().values\n",
    "atxt = ' '.join(artists.tolist())"
   ]
  },
  {
   "cell_type": "code",
   "execution_count": 15,
   "metadata": {
    "collapsed": false
   },
   "outputs": [],
   "source": [
    "tokens = nltk.word_tokenize(txt)\n",
    "from nltk.tokenize import RegexpTokenizer\n",
    "\n",
    "tokenizer = RegexpTokenizer(r'\\w+')\n",
    "new_tokens = tokenizer.tokenize(txt)\n"
   ]
  },
  {
   "cell_type": "code",
   "execution_count": 18,
   "metadata": {
    "collapsed": false
   },
   "outputs": [],
   "source": [
    "a_tokens = nltk.word_tokenize(atxt)\n",
    "new_atokens = tokenizer.tokenize(atxt)"
   ]
  },
  {
   "cell_type": "code",
   "execution_count": 22,
   "metadata": {
    "collapsed": false
   },
   "outputs": [],
   "source": [
    "text = nltk.Text(tokens)"
   ]
  },
  {
   "cell_type": "code",
   "execution_count": 24,
   "metadata": {
    "collapsed": false
   },
   "outputs": [],
   "source": [
    "atext = nltk.Text(a_tokens)"
   ]
  },
  {
   "cell_type": "code",
   "execution_count": 25,
   "metadata": {
    "collapsed": false
   },
   "outputs": [
    {
     "name": "stdout",
     "output_type": "stream",
     "text": [
      "Building index...\n",
      "Displaying 13 of 13 matches:\n",
      "                                    Dragon Hanukah Rocks Komsinice Mila Moja M\n",
      "o the tackling of the beast abd the dragon - the momentum of rock and roll Cal\n",
      " Knights of Damcar Iron Maiden Lost Dragon of the Sahara Tribe Called Quest vs\n",
      "? Flintstones Paperback Writer Lost Dragon of the Sahara Lipstudio and so on T\n",
      " Cane 2oth Century Boy Big Fat Bone Dragon Agro Tango Anne-Li Exhausted Machin\n",
      "schastenie ( Miles Drum Edit ) Lost Dragon Of The Sahara Soul Sitar Love Ever \n",
      "opless Dr. Jekyll and Mr. Hyde Lost Dragon of the Sahara Blue Jay Way Chicken \n",
      "iceratops ( Acid Girls rmx a ) Lost Dragon of the Sahara Track # 6 If I Were A\n",
      "Maskownye Wietsjiera Soul Raga Lost Dragon of the Sahara Bombay Boogie I Am Th\n",
      "er 's Lament f'chenhain Pfifferling Dragon Draak Voyage Il S'en Passe Slippin \n",
      "t and Buy and Eat Sharevari Ask The Dragon ( Ween Remix ) FAIL I Looked at the\n",
      "September Song Green Door Zoom Lost Dragon of the Sahara If I Were A Rich Man \n",
      "o the Tackling of the Beast and the Dragon : the Momentum of Rock and Roll Tra\n"
     ]
    }
   ],
   "source": [
    "text.concordance('Dragon')"
   ]
  },
  {
   "cell_type": "code",
   "execution_count": 50,
   "metadata": {
    "collapsed": false
   },
   "outputs": [],
   "source": [
    "content_model = ngrams(new_tokens,2)\n"
   ]
  },
  {
   "cell_type": "code",
   "execution_count": 35,
   "metadata": {
    "collapsed": false
   },
   "outputs": [
    {
     "ename": "AttributeError",
     "evalue": "'list' object has no attribute 'generate'",
     "output_type": "error",
     "traceback": [
      "\u001b[1;31m---------------------------------------------------------------------------\u001b[0m",
      "\u001b[1;31mAttributeError\u001b[0m                            Traceback (most recent call last)",
      "\u001b[1;32m<ipython-input-35-c967acecb1c3>\u001b[0m in \u001b[0;36m<module>\u001b[1;34m()\u001b[0m\n\u001b[0;32m      1\u001b[0m \u001b[1;31m#print(content_model)\u001b[0m\u001b[1;33m\u001b[0m\u001b[1;33m\u001b[0m\u001b[0m\n\u001b[1;32m----> 2\u001b[1;33m \u001b[0mstarting_words\u001b[0m \u001b[1;33m=\u001b[0m \u001b[0mcontent_model\u001b[0m\u001b[1;33m.\u001b[0m\u001b[0mgenerate\u001b[0m\u001b[1;33m(\u001b[0m\u001b[1;36m100\u001b[0m\u001b[1;33m)\u001b[0m\u001b[1;33m[\u001b[0m\u001b[1;33m-\u001b[0m\u001b[1;36m2\u001b[0m\u001b[1;33m:\u001b[0m\u001b[1;33m]\u001b[0m\u001b[1;33m\u001b[0m\u001b[0m\n\u001b[0m",
      "\u001b[1;31mAttributeError\u001b[0m: 'list' object has no attribute 'generate'"
     ]
    }
   ],
   "source": [
    "#print(content_model)\n",
    "starting_words = content_model.generate(100)[-2:]\n"
   ]
  },
  {
   "cell_type": "code",
   "execution_count": 54,
   "metadata": {
    "collapsed": false
   },
   "outputs": [],
   "source": [
    "from nltk.util import ngrams\n",
    "foo = [0,0,0,0,0,0,1,1,1,1,1,1,1,1,1,1,1,1,1,1,1,1,1,2,2,2,2,2,2,2,2,2,2,2,2,2,3,3,3,3,3,3,3,3,4,4,4,4,4,4,5,5,5,5]\n",
    "t_songs = []\n",
    "for i in range (0,39):\n",
    "    content_model = nltk.NgramModel(2,tokens)\n",
    "    #print(content_model)\n",
    "    starting_words = content_model.generate(100)[-2:]\n",
    "    content = content_model.generate(random.choice(foo), starting_words)\n",
    "    t_songs.append(content)"
   ]
  },
  {
   "cell_type": "code",
   "execution_count": 57,
   "metadata": {
    "collapsed": false
   },
   "outputs": [],
   "source": [
    "foo = [0,0,0,0,0,0,1,1,1,1,1,2,2,2,2,2,2,3,3,3,]\n",
    "t_artists = []\n",
    "for i in range (0,39):\n",
    "    a_content_model = nltk.NgramModel(2, a_tokens)\n",
    "    starting_words = a_content_model.generate(100)[-2:]\n",
    "    a_content = a_content_model.generate(random.choice(foo), starting_words)\n",
    "    t_artists.append(a_content)"
   ]
  },
  {
   "cell_type": "code",
   "execution_count": 58,
   "metadata": {
    "collapsed": false
   },
   "outputs": [
    {
     "data": {
      "text/plain": [
       "[['Don', 'Robertson', 'Brother', 'Bones'],\n",
       " ['FM', 'Einheit', 'Bags', 'of', 'Darkness'],\n",
       " ['Lennon', '&', 'Roger'],\n",
       " ['Street', 'Incident', 'Don', 'Covay', '&'],\n",
       " ['Elvis', 'Oranj', 'Symphonette', 'Can'],\n",
       " ['Ubu', 'Bondage', 'Kim'],\n",
       " ['Apocalyptica', 'Santo', '&', 'Bunnies', 'Doo'],\n",
       " ['Allenspach', 'Marzipan', 'Satanicpornocultshop', 'The'],\n",
       " ['Liebezeit', 'Circle'],\n",
       " ['K', 'Frog', 'D.', 'Cup'],\n",
       " ['Zombies', 'Insults', 'Johnnie'],\n",
       " ['t.A.T.u.', 'Autour'],\n",
       " ['Dick', 'Hyman', 'Dsico'],\n",
       " ['The', 'Ex', 'Orkest'],\n",
       " ['Allan', 'and', 'Jacques'],\n",
       " ['Kings', 'Walter', 'The', 'Slew'],\n",
       " ['Midas', 'Sound', 'Ltd'],\n",
       " ['Chambers', '('],\n",
       " ['Metallica', 'Black', 'Company'],\n",
       " ['Go', 'Home', 'Productions'],\n",
       " ['Valentine', 'People'],\n",
       " ['Sparks', 'John'],\n",
       " ['Khlam', 'Stelvio'],\n",
       " ['Malik', 'Philipa', 'Fallon', 'Rob'],\n",
       " ['&', 'Pluto', 'Jean', 'Kluger'],\n",
       " ['Schnall', 'Tonetta', 'Wax'],\n",
       " ['Housecat', 'Stooges', 'The'],\n",
       " ['Melamid', 'and', 'Bugs'],\n",
       " ['Andy', 'Calorie', 'Original', 'Love', 'Digable'],\n",
       " ['Last', 'Funktionaries', 'The'],\n",
       " ['La', 'Poesie', 'B', 'Das'],\n",
       " ['Zavaroni', 'The'],\n",
       " ['York', 'Gong'],\n",
       " ['Seven', '&', 'Oscar'],\n",
       " ['Duffy', '&'],\n",
       " ['Madison', 'Magoo', 'Dj'],\n",
       " ['&', 'Ergo', 'Phizmiz', 'Biller', '&'],\n",
       " ['Dinger', '&', 'Blue', 'Cowboys', 'Slap'],\n",
       " ['Scientists', 'Peter', 'Blegvad']]"
      ]
     },
     "execution_count": 58,
     "metadata": {},
     "output_type": "execute_result"
    }
   ],
   "source": [
    "t_artists"
   ]
  },
  {
   "cell_type": "code",
   "execution_count": 41,
   "metadata": {
    "collapsed": false
   },
   "outputs": [],
   "source": [
    "amp = []\n",
    "for x in t_songs:\n",
    "    amp.append(' '.join(x))\n",
    "\n",
    "tamp = []\n",
    "for x in t_artists:\n",
    "    tamp.append(' '.join(x))"
   ]
  },
  {
   "cell_type": "code",
   "execution_count": 43,
   "metadata": {
    "collapsed": false
   },
   "outputs": [],
   "source": [
    "s1 = pd.Series(amp, name='song')\n",
    "s2 = pd.Series(tamp, name='artist')\n",
    "final = pd.concat([s1, s2], axis=1)"
   ]
  },
  {
   "cell_type": "code",
   "execution_count": 44,
   "metadata": {
    "collapsed": false
   },
   "outputs": [],
   "source": [
    "final.to_csv(\"nltk.tsv\", \"\\t\")"
   ]
  }
 ],
 "metadata": {
  "kernelspec": {
   "display_name": "Python 2",
   "language": "python",
   "name": "python2"
  },
  "language_info": {
   "codemirror_mode": {
    "name": "ipython",
    "version": 2
   },
   "file_extension": ".py",
   "mimetype": "text/x-python",
   "name": "python",
   "nbconvert_exporter": "python",
   "pygments_lexer": "ipython2",
   "version": "2.7.6"
  }
 },
 "nbformat": 4,
 "nbformat_minor": 0
}
