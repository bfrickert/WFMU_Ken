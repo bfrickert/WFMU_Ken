{
 "cells": [
  {
   "cell_type": "code",
   "execution_count": 20,
   "metadata": {
    "collapsed": false
   },
   "outputs": [],
   "source": [
    "import pandas as pd\n",
    "import nltk as nltk\n",
    "import warnings\n",
    "warnings.filterwarnings('ignore')\n",
    "import random\n",
    "import numpy as np\n",
    "import markovgen\n",
    "import StringIO\n",
    "import sys"
   ]
  },
  {
   "cell_type": "code",
   "execution_count": 2,
   "metadata": {
    "collapsed": false
   },
   "outputs": [
    {
     "data": {
      "text/html": [
       "<div style=\"max-height:1000px;max-width:1500px;overflow:auto;\">\n",
       "<table border=\"1\" class=\"dataframe\">\n",
       "  <thead>\n",
       "    <tr style=\"text-align: right;\">\n",
       "      <th></th>\n",
       "      <th>X</th>\n",
       "      <th>artist</th>\n",
       "      <th>song</th>\n",
       "      <th>date</th>\n",
       "      <th>num_songs</th>\n",
       "      <th>fraction</th>\n",
       "      <th>hour</th>\n",
       "      <th>song_words_count</th>\n",
       "    </tr>\n",
       "  </thead>\n",
       "  <tbody>\n",
       "    <tr>\n",
       "      <th>1</th>\n",
       "      <td> 0</td>\n",
       "      <td>       Marlene Dietrich</td>\n",
       "      <td> Puff der Zauberdrachen</td>\n",
       "      <td> 12/12/2001</td>\n",
       "      <td> 43</td>\n",
       "      <td> 0.000000</td>\n",
       "      <td> First</td>\n",
       "      <td> 3</td>\n",
       "    </tr>\n",
       "    <tr>\n",
       "      <th>2</th>\n",
       "      <td> 1</td>\n",
       "      <td>                  Ruach</td>\n",
       "      <td> Puff The Kosher Dragon</td>\n",
       "      <td> 12/12/2001</td>\n",
       "      <td> 43</td>\n",
       "      <td> 0.023256</td>\n",
       "      <td> First</td>\n",
       "      <td> 4</td>\n",
       "    </tr>\n",
       "    <tr>\n",
       "      <th>3</th>\n",
       "      <td> 2</td>\n",
       "      <td> Gefilte Joe &amp; The Fish</td>\n",
       "      <td>          Hanukah Rocks</td>\n",
       "      <td> 12/12/2001</td>\n",
       "      <td> 43</td>\n",
       "      <td> 0.046512</td>\n",
       "      <td> First</td>\n",
       "      <td> 2</td>\n",
       "    </tr>\n",
       "    <tr>\n",
       "      <th>4</th>\n",
       "      <td> 3</td>\n",
       "      <td>       Kalesijski Svuci</td>\n",
       "      <td>    Komsinice Mila Moja</td>\n",
       "      <td> 12/12/2001</td>\n",
       "      <td> 43</td>\n",
       "      <td> 0.069767</td>\n",
       "      <td> First</td>\n",
       "      <td> 3</td>\n",
       "    </tr>\n",
       "    <tr>\n",
       "      <th>5</th>\n",
       "      <td> 4</td>\n",
       "      <td>            Tornado Lue</td>\n",
       "      <td>                  Marie</td>\n",
       "      <td> 12/12/2001</td>\n",
       "      <td> 43</td>\n",
       "      <td> 0.093023</td>\n",
       "      <td> First</td>\n",
       "      <td> 1</td>\n",
       "    </tr>\n",
       "  </tbody>\n",
       "</table>\n",
       "<p>5 rows × 8 columns</p>\n",
       "</div>"
      ],
      "text/plain": [
       "   X                  artist                    song        date  num_songs  \\\n",
       "1  0        Marlene Dietrich  Puff der Zauberdrachen  12/12/2001         43   \n",
       "2  1                   Ruach  Puff The Kosher Dragon  12/12/2001         43   \n",
       "3  2  Gefilte Joe & The Fish           Hanukah Rocks  12/12/2001         43   \n",
       "4  3        Kalesijski Svuci     Komsinice Mila Moja  12/12/2001         43   \n",
       "5  4             Tornado Lue                   Marie  12/12/2001         43   \n",
       "\n",
       "   fraction   hour  song_words_count  \n",
       "1  0.000000  First                 3  \n",
       "2  0.023256  First                 4  \n",
       "3  0.046512  First                 2  \n",
       "4  0.069767  First                 3  \n",
       "5  0.093023  First                 1  \n",
       "\n",
       "[5 rows x 8 columns]"
      ]
     },
     "execution_count": 2,
     "metadata": {},
     "output_type": "execute_result"
    }
   ],
   "source": [
    "df = pd.read_table(\"data/songs_hour.tsv\", sep='\\t')\n",
    "m = np.mean(df['num_songs'])\n",
    "df['song_words_count'] = df['song'].str.count(' ') + 1\n",
    "df.head()"
   ]
  },
  {
   "cell_type": "code",
   "execution_count": 3,
   "metadata": {
    "collapsed": false
   },
   "outputs": [
    {
     "data": {
      "text/plain": [
       "['Puff der Zauberdrachen',\n",
       " 'Puff The Kosher Dragon',\n",
       " 'Hanukah Rocks',\n",
       " 'Komsinice Mila Moja',\n",
       " 'Marie',\n",
       " 'Ich Weiss Nicht Mehr Genou',\n",
       " 'Happy Meeting',\n",
       " 'Die Hexer',\n",
       " 'Roger Rhythm #1',\n",
       " 'Rubber Band Players',\n",
       " 'The Lepers',\n",
       " '10:10',\n",
       " 'Dachziegelkauer',\n",
       " 'Whispering',\n",
       " 'Charlie & His Orchestra',\n",
       " 'Speaks to American GIs',\n",
       " nan,\n",
       " 'Travelite',\n",
       " 'Bei Manni Und Bine',\n",
       " 'Lyon Fritters',\n",
       " 'Skeleton Fred',\n",
       " 'Osusowake',\n",
       " 'Jonah',\n",
       " 'Three Dances from Nutcracker Suite',\n",
       " \"headin' For The Big City Lights\",\n",
       " 'The Vienna Waltz',\n",
       " 'Leopardi',\n",
       " \"If Drinkin' Don't Kill Me\",\n",
       " 'Lazarus',\n",
       " 'Furniture',\n",
       " 'Narcoleptic Feedback',\n",
       " 'Firecracker Firecracker',\n",
       " 'World War None',\n",
       " 'Saga of Johnny']"
      ]
     },
     "execution_count": 3,
     "metadata": {},
     "output_type": "execute_result"
    }
   ],
   "source": [
    " df['song'].tolist()[0:34]"
   ]
  },
  {
   "cell_type": "code",
   "execution_count": 4,
   "metadata": {
    "collapsed": false
   },
   "outputs": [],
   "source": [
    "songs = df['song'].dropna().values\n",
    "txt = ' '.join(songs.tolist())"
   ]
  },
  {
   "cell_type": "code",
   "execution_count": 5,
   "metadata": {
    "collapsed": false
   },
   "outputs": [],
   "source": [
    "artists = df['artist'].dropna().values\n",
    "atxt = ' '.join(artists.tolist())"
   ]
  },
  {
   "cell_type": "code",
   "execution_count": 6,
   "metadata": {
    "collapsed": false
   },
   "outputs": [],
   "source": [
    "#tokens = nltk.word_tokenize(txt)\n",
    "from nltk.tokenize import RegexpTokenizer\n",
    "\n",
    "tokenizer = RegexpTokenizer(r'\\w+')\n",
    "new_tokens = tokenizer.tokenize(txt)\n"
   ]
  },
  {
   "cell_type": "code",
   "execution_count": 7,
   "metadata": {
    "collapsed": false
   },
   "outputs": [],
   "source": [
    "#a_tokens = nltk.word_tokenize(atxt)\n",
    "new_atokens = tokenizer.tokenize(atxt)"
   ]
  },
  {
   "cell_type": "code",
   "execution_count": 8,
   "metadata": {
    "collapsed": false
   },
   "outputs": [],
   "source": [
    "text = nltk.Text(new_tokens)"
   ]
  },
  {
   "cell_type": "code",
   "execution_count": 9,
   "metadata": {
    "collapsed": false
   },
   "outputs": [],
   "source": [
    "atext = nltk.Text(new_atokens)"
   ]
  },
  {
   "cell_type": "code",
   "execution_count": 29,
   "metadata": {
    "collapsed": false
   },
   "outputs": [
    {
     "ename": "AttributeError",
     "evalue": "'Text' object has no attribute 'generate'",
     "output_type": "error",
     "traceback": [
      "\u001b[1;31m---------------------------------------------------------------------------\u001b[0m",
      "\u001b[1;31mAttributeError\u001b[0m                            Traceback (most recent call last)",
      "\u001b[1;32m<ipython-input-29-2c557fcd5a1c>\u001b[0m in \u001b[0;36m<module>\u001b[1;34m()\u001b[0m\n\u001b[1;32m----> 1\u001b[1;33m \u001b[0mtext\u001b[0m\u001b[1;33m.\u001b[0m\u001b[0mgenerate\u001b[0m\u001b[1;33m(\u001b[0m\u001b[1;33m)\u001b[0m\u001b[1;33m\u001b[0m\u001b[0m\n\u001b[0m",
      "\u001b[1;31mAttributeError\u001b[0m: 'Text' object has no attribute 'generate'"
     ]
    }
   ],
   "source": [
    "text.generate()"
   ]
  },
  {
   "cell_type": "code",
   "execution_count": 10,
   "metadata": {
    "collapsed": false
   },
   "outputs": [
    {
     "name": "stdout",
     "output_type": "stream",
     "text": [
      "Displaying 13 of 13 matches:\n",
      "                                    Dragon Hanukah Rocks Komsinice Mila Moja M\n",
      "o the tackling of the beast abd the dragon the momentum of rock and roll Call \n",
      " Knights of Damcar Iron Maiden Lost Dragon of the Sahara Tribe Called Quest vs\n",
      "e Flintstones Paperback Writer Lost Dragon of the Sahara Lipstudio and so on T\n",
      " Cane 2oth Century Boy Big Fat Bone Dragon Agro Tango Anne Li Exhausted Machin\n",
      "p Pyschastenie Miles Drum Edit Lost Dragon Of The Sahara Soul Sitar Love Ever \n",
      " Topless Dr Jekyll and Mr Hyde Lost Dragon of the Sahara Blue Jay Way Chicken \n",
      "z Triceratops Acid Girls rmx a Lost Dragon of the Sahara Track 6 If I Were A R\n",
      "Maskownye Wietsjiera Soul Raga Lost Dragon of the Sahara Bombay Boogie I Am Th\n",
      "ner s Lament f chenhain Pfifferling Dragon Draak Voyage Il S en Passe Slippin \n",
      "t and Buy and Eat Sharevari Ask The Dragon Ween Remix FAIL I Looked at the Sun\n",
      "September Song Green Door Zoom Lost Dragon of the Sahara If I Were A Rich Man \n",
      "o the Tackling of the Beast and the Dragon the Momentum of Rock and Roll Track\n"
     ]
    }
   ],
   "source": [
    "text.concordance('Dragon')"
   ]
  },
  {
   "cell_type": "code",
   "execution_count": 56,
   "metadata": {
    "collapsed": false
   },
   "outputs": [
    {
     "name": "stdout",
     "output_type": "stream",
     "text": [
      "<generator object ngrams at 0x7ffbfa2eefa0>\n"
     ]
    },
    {
     "ename": "AttributeError",
     "evalue": "'generator' object has no attribute 'generate'",
     "output_type": "error",
     "traceback": [
      "\u001b[1;31m---------------------------------------------------------------------------\u001b[0m",
      "\u001b[1;31mAttributeError\u001b[0m                            Traceback (most recent call last)",
      "\u001b[1;32m<ipython-input-56-3339427e8f2b>\u001b[0m in \u001b[0;36m<module>\u001b[1;34m()\u001b[0m\n\u001b[0;32m      5\u001b[0m     \u001b[0mcontent_model\u001b[0m \u001b[1;33m=\u001b[0m \u001b[0mngrams\u001b[0m\u001b[1;33m(\u001b[0m\u001b[1;36m2\u001b[0m\u001b[1;33m,\u001b[0m \u001b[0mnew_tokens\u001b[0m\u001b[1;33m)\u001b[0m\u001b[1;33m\u001b[0m\u001b[0m\n\u001b[0;32m      6\u001b[0m     \u001b[1;32mprint\u001b[0m\u001b[1;33m(\u001b[0m\u001b[0mcontent_model\u001b[0m\u001b[1;33m)\u001b[0m\u001b[1;33m\u001b[0m\u001b[0m\n\u001b[1;32m----> 7\u001b[1;33m     \u001b[0mstarting_words\u001b[0m \u001b[1;33m=\u001b[0m \u001b[0mcontent_model\u001b[0m\u001b[1;33m.\u001b[0m\u001b[0mgenerate\u001b[0m\u001b[1;33m(\u001b[0m\u001b[1;36m100\u001b[0m\u001b[1;33m)\u001b[0m\u001b[1;33m[\u001b[0m\u001b[1;33m-\u001b[0m\u001b[1;36m2\u001b[0m\u001b[1;33m:\u001b[0m\u001b[1;33m]\u001b[0m\u001b[1;33m\u001b[0m\u001b[0m\n\u001b[0m\u001b[0;32m      8\u001b[0m     \u001b[0mcontent\u001b[0m \u001b[1;33m=\u001b[0m \u001b[0mcontent_model\u001b[0m\u001b[1;33m.\u001b[0m\u001b[0mgenerate\u001b[0m\u001b[1;33m(\u001b[0m\u001b[0mrandom\u001b[0m\u001b[1;33m.\u001b[0m\u001b[0mchoice\u001b[0m\u001b[1;33m(\u001b[0m\u001b[0mfoo\u001b[0m\u001b[1;33m)\u001b[0m\u001b[1;33m,\u001b[0m \u001b[0mstarting_words\u001b[0m\u001b[1;33m)\u001b[0m\u001b[1;33m\u001b[0m\u001b[0m\n\u001b[0;32m      9\u001b[0m     \u001b[0mt_songs\u001b[0m\u001b[1;33m.\u001b[0m\u001b[0mappend\u001b[0m\u001b[1;33m(\u001b[0m\u001b[0mcontent\u001b[0m\u001b[1;33m)\u001b[0m\u001b[1;33m\u001b[0m\u001b[0m\n",
      "\u001b[1;31mAttributeError\u001b[0m: 'generator' object has no attribute 'generate'"
     ]
    }
   ],
   "source": [
    "from nltk.util import ngrams\n",
    "foo = [0,0,0,0,0,0,1,1,1,1,1,1,1,1,1,1,1,1,1,1,1,1,1,2,2,2,2,2,2,2,2,2,2,2,2,2,3,3,3,3,3,3,3,3,4,4,4,4,4,4,5,5,5,5]\n",
    "t_songs = []\n",
    "for i in range (0,39):\n",
    "    content_model = ngrams(2, new_tokens)\n",
    "    print(content_model)\n",
    "    starting_words = content_model.generate(100)[-2:]\n",
    "    content = content_model.generate(random.choice(foo), starting_words)\n",
    "    t_songs.append(content)"
   ]
  },
  {
   "cell_type": "code",
   "execution_count": 22,
   "metadata": {
    "collapsed": false
   },
   "outputs": [
    {
     "ename": "AttributeError",
     "evalue": "'module' object has no attribute 'intern'",
     "output_type": "error",
     "traceback": [
      "\u001b[1;31m---------------------------------------------------------------------------\u001b[0m",
      "\u001b[1;31mAttributeError\u001b[0m                            Traceback (most recent call last)",
      "\u001b[1;32m<ipython-input-22-013c6d54d9cb>\u001b[0m in \u001b[0;36m<module>\u001b[1;34m()\u001b[0m\n\u001b[0;32m      7\u001b[0m \u001b[0mcontents\u001b[0m \u001b[1;33m=\u001b[0m \u001b[0moutput\u001b[0m\u001b[1;33m.\u001b[0m\u001b[0mgetvalue\u001b[0m\u001b[1;33m(\u001b[0m\u001b[1;33m)\u001b[0m\u001b[1;33m\u001b[0m\u001b[0m\n\u001b[0;32m      8\u001b[0m \u001b[1;33m\u001b[0m\u001b[0m\n\u001b[1;32m----> 9\u001b[1;33m \u001b[0mmarkov\u001b[0m \u001b[1;33m=\u001b[0m \u001b[0mmarkovgen\u001b[0m\u001b[1;33m.\u001b[0m\u001b[0mMarkov\u001b[0m\u001b[1;33m(\u001b[0m\u001b[0mcontents\u001b[0m\u001b[1;33m)\u001b[0m\u001b[1;33m\u001b[0m\u001b[0m\n\u001b[0m",
      "\u001b[1;32m/usr/local/lib/python2.7/dist-packages/markovgen/markovgen.pyc\u001b[0m in \u001b[0;36m__init__\u001b[1;34m(self, messages)\u001b[0m\n\u001b[0;32m     26\u001b[0m         \u001b[1;32mif\u001b[0m \u001b[0mmessages\u001b[0m\u001b[1;33m:\u001b[0m\u001b[1;33m\u001b[0m\u001b[0m\n\u001b[0;32m     27\u001b[0m             \u001b[1;32mfor\u001b[0m \u001b[0mmessage\u001b[0m \u001b[1;32min\u001b[0m \u001b[0mmessages\u001b[0m\u001b[1;33m:\u001b[0m\u001b[1;33m\u001b[0m\u001b[0m\n\u001b[1;32m---> 28\u001b[1;33m                 \u001b[0mself\u001b[0m\u001b[1;33m.\u001b[0m\u001b[0mfeed\u001b[0m\u001b[1;33m(\u001b[0m\u001b[0mmessage\u001b[0m\u001b[1;33m)\u001b[0m\u001b[1;33m\u001b[0m\u001b[0m\n\u001b[0m\u001b[0;32m     29\u001b[0m \u001b[1;33m\u001b[0m\u001b[0m\n\u001b[0;32m     30\u001b[0m \u001b[1;33m\u001b[0m\u001b[0m\n",
      "\u001b[1;32m/usr/local/lib/python2.7/dist-packages/markovgen/markovgen.pyc\u001b[0m in \u001b[0;36mfeed\u001b[1;34m(self, message)\u001b[0m\n\u001b[0;32m     48\u001b[0m \u001b[1;33m\u001b[0m\u001b[0m\n\u001b[0;32m     49\u001b[0m     \u001b[1;32mdef\u001b[0m \u001b[0mfeed\u001b[0m\u001b[1;33m(\u001b[0m\u001b[0mself\u001b[0m\u001b[1;33m,\u001b[0m \u001b[0mmessage\u001b[0m\u001b[1;33m)\u001b[0m\u001b[1;33m:\u001b[0m\u001b[1;33m\u001b[0m\u001b[0m\n\u001b[1;32m---> 50\u001b[1;33m         \u001b[0msplitted\u001b[0m \u001b[1;33m=\u001b[0m \u001b[0mlist\u001b[0m\u001b[1;33m(\u001b[0m\u001b[0mmap\u001b[0m\u001b[1;33m(\u001b[0m\u001b[0msys\u001b[0m\u001b[1;33m.\u001b[0m\u001b[0mintern\u001b[0m\u001b[1;33m,\u001b[0m \u001b[0mmessage\u001b[0m\u001b[1;33m.\u001b[0m\u001b[0msplit\u001b[0m\u001b[1;33m(\u001b[0m\u001b[1;34m' '\u001b[0m\u001b[1;33m)\u001b[0m\u001b[1;33m)\u001b[0m\u001b[1;33m)\u001b[0m\u001b[1;33m\u001b[0m\u001b[0m\n\u001b[0m\u001b[0;32m     51\u001b[0m         \u001b[1;32mfor\u001b[0m \u001b[0mw1\u001b[0m\u001b[1;33m,\u001b[0m \u001b[0mw2\u001b[0m\u001b[1;33m,\u001b[0m \u001b[0mw3\u001b[0m \u001b[1;32min\u001b[0m \u001b[0mself\u001b[0m\u001b[1;33m.\u001b[0m\u001b[0mtriples\u001b[0m\u001b[1;33m(\u001b[0m\u001b[0mself\u001b[0m\u001b[1;33m.\u001b[0m\u001b[0mwords\u001b[0m\u001b[1;33m[\u001b[0m\u001b[1;33m-\u001b[0m\u001b[1;36m2\u001b[0m\u001b[1;33m:\u001b[0m\u001b[1;33m]\u001b[0m \u001b[1;33m+\u001b[0m \u001b[0msplitted\u001b[0m \u001b[1;33m+\u001b[0m \u001b[1;33m[\u001b[0m\u001b[1;34m'\\n'\u001b[0m\u001b[1;33m]\u001b[0m\u001b[1;33m)\u001b[0m\u001b[1;33m:\u001b[0m\u001b[1;33m\u001b[0m\u001b[0m\n\u001b[0;32m     52\u001b[0m             \u001b[0mself\u001b[0m\u001b[1;33m.\u001b[0m\u001b[0m_add_key_to_cache\u001b[0m\u001b[1;33m(\u001b[0m\u001b[1;33m(\u001b[0m\u001b[0mw1\u001b[0m\u001b[1;33m,\u001b[0m \u001b[0mw2\u001b[0m\u001b[1;33m)\u001b[0m\u001b[1;33m,\u001b[0m \u001b[0mself\u001b[0m\u001b[1;33m.\u001b[0m\u001b[0mforward_cache\u001b[0m\u001b[1;33m,\u001b[0m \u001b[0mw3\u001b[0m\u001b[1;33m)\u001b[0m\u001b[1;33m\u001b[0m\u001b[0m\n",
      "\u001b[1;31mAttributeError\u001b[0m: 'module' object has no attribute 'intern'"
     ]
    }
   ],
   "source": [
    "artist_string = ' '.join(df['artist'].tolist())\n",
    "#markov = markovgen.Markov()\n",
    "#markov.generate_markov_text()\n",
    "output = StringIO.StringIO()\n",
    "output.write(artist_string)\n",
    "\n",
    "contents = output.getvalue()\n",
    "\n",
    "markov = markovgen.Markov(contents)"
   ]
  },
  {
   "cell_type": "code",
   "execution_count": 40,
   "metadata": {
    "collapsed": false
   },
   "outputs": [],
   "source": [
    "foo = [0,0,0,0,0,0,1,1,1,1,1,2,2,2,2,2,2,3,3,3,]\n",
    "t_artists = []\n",
    "for i in range (0,39):\n",
    "    a_content_model = nltk.NgramModel(2, a_tokens)\n",
    "    starting_words = a_content_model.generate(100)[-2:]\n",
    "    a_content = a_content_model.generate(random.choice(foo), starting_words)\n",
    "    t_artists.append(a_content)"
   ]
  },
  {
   "cell_type": "code",
   "execution_count": 41,
   "metadata": {
    "collapsed": false
   },
   "outputs": [],
   "source": [
    "amp = []\n",
    "for x in t_songs:\n",
    "    amp.append(' '.join(x))\n",
    "\n",
    "tamp = []\n",
    "for x in t_artists:\n",
    "    tamp.append(' '.join(x))"
   ]
  },
  {
   "cell_type": "code",
   "execution_count": 43,
   "metadata": {
    "collapsed": false
   },
   "outputs": [],
   "source": [
    "s1 = pd.Series(amp, name='song')\n",
    "s2 = pd.Series(tamp, name='artist')\n",
    "final = pd.concat([s1, s2], axis=1)"
   ]
  },
  {
   "cell_type": "code",
   "execution_count": 44,
   "metadata": {
    "collapsed": false
   },
   "outputs": [],
   "source": [
    "final.to_csv(\"nltk.tsv\", \"\\t\")"
   ]
  }
 ],
 "metadata": {
  "kernelspec": {
   "display_name": "Python 2",
   "language": "python",
   "name": "python2"
  },
  "language_info": {
   "codemirror_mode": {
    "name": "ipython",
    "version": 2
   },
   "file_extension": ".py",
   "mimetype": "text/x-python",
   "name": "python",
   "nbconvert_exporter": "python",
   "pygments_lexer": "ipython2",
   "version": "2.7.6"
  }
 },
 "nbformat": 4,
 "nbformat_minor": 0
}
